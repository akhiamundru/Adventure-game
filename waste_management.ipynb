{
  "nbformat": 4,
  "nbformat_minor": 0,
  "metadata": {
    "colab": {
      "provenance": [],
      "authorship_tag": "ABX9TyOgLQxulAqhNNg3Tg/iMwQI",
      "include_colab_link": true
    },
    "kernelspec": {
      "name": "python3",
      "display_name": "Python 3"
    },
    "language_info": {
      "name": "python"
    }
  },
  "cells": [
    {
      "cell_type": "markdown",
      "metadata": {
        "id": "view-in-github",
        "colab_type": "text"
      },
      "source": [
        "<a href=\"https://colab.research.google.com/github/akhiamundru/Adventure-game/blob/main/waste_management.ipynb\" target=\"_parent\"><img src=\"https://colab.research.google.com/assets/colab-badge.svg\" alt=\"Open In Colab\"/></a>"
      ]
    },
    {
      "cell_type": "code",
      "source": [
        "class ElectronicItem:\n",
        "    def __init__(self, item_id, name, item_type, purchase_date, status):\n",
        "        self.item_id = item_id\n",
        "        self.name = name\n",
        "        self.item_type = item_type\n",
        "        self.purchase_date = purchase_date\n",
        "        self.status = status  # e.g., \"In Use\", \"To Be Disposed\", \"Disposed\"\n",
        "        self.disposal_date = None\n",
        "\n",
        "    def mark_for_disposal(self, disposal_date):\n",
        "        self.status = \"To Be Disposed\"\n",
        "        self.disposal_date = disposal_date\n",
        "        print(f\"Item '{self.name}' marked for disposal on {self.disposal_date}.\")\n",
        "\n",
        "    def __str__(self):\n",
        "        return f\"{self.name} ({self.item_type}) - Status: {self.status}\"\n"
      ],
      "metadata": {
        "id": "_v8TrzX9N8Ib"
      },
      "execution_count": 6,
      "outputs": []
    },
    {
      "cell_type": "code",
      "source": [
        "class EwasteCollection:\n",
        "    def __init__(self, collection_id, item_id, scheduled_date, status=\"Scheduled\"):\n",
        "        self.collection_id = collection_id\n",
        "        self.item_id = item_id\n",
        "        self.scheduled_date = scheduled_date\n",
        "        self.collection_date = None\n",
        "        self.status = status  # e.g., \"Scheduled\", \"Collected\", \"In Progress\"\n",
        "\n",
        "    def mark_collected(self, collection_date):\n",
        "        self.collection_date = collection_date\n",
        "        self.status = \"Collected\"\n",
        "        print(f\"Collection ID '{self.collection_id}' for Item ID '{self.item_id}' marked as collected on {self.collection_date}.\")\n",
        "\n",
        "    def __str__(self):\n",
        "        return f\"Collection ID: {self.collection_id}, Item ID: {self.item_id}, Status: {self.status}\"\n"
      ],
      "metadata": {
        "id": "nJPCnL4iOCe1"
      },
      "execution_count": 7,
      "outputs": []
    },
    {
      "cell_type": "code",
      "source": [
        "class InventoryManager:\n",
        "    def __init__(self):\n",
        "        self.items = []\n",
        "\n",
        "    def add_item(self, item):\n",
        "        self.items.append(item)\n",
        "        print(f\"Added item: {item.name} (ID: {item.item_id}).\")\n",
        "\n",
        "    def get_item(self, item_id):\n",
        "        for item in self.items:\n",
        "            if item.item_id == item_id:\n",
        "                return item\n",
        "        return None\n",
        "\n",
        "    def list_items(self):\n",
        "        if not self.items:\n",
        "            print(\"No items in inventory.\")\n",
        "        else:\n",
        "            for item in self.items:\n",
        "                print(item)\n",
        "\n",
        "    def mark_item_for_disposal(self, item_id, disposal_date):\n",
        "        item = self.get_item(item_id)\n",
        "        if item:\n",
        "            item.mark_for_disposal(disposal_date)\n",
        "\n",
        "    def __str__(self):\n",
        "        return f\"Inventory: {len(self.items)} items\"\n"
      ],
      "metadata": {
        "id": "5wWzlGLcOHhw"
      },
      "execution_count": 8,
      "outputs": []
    },
    {
      "cell_type": "code",
      "source": [
        "class EwasteMonitoringSystem:\n",
        "    def __init__(self):\n",
        "        self.inventory_manager = InventoryManager()\n",
        "        self.collections = []\n",
        "        self.recycling_centers = []\n",
        "\n",
        "    def schedule_collection(self, item_id, scheduled_date):\n",
        "        collection = EwasteCollection(\n",
        "            collection_id=f\"COL{len(self.collections) + 1}\",\n",
        "            item_id=item_id,\n",
        "            scheduled_date=scheduled_date\n",
        "        )\n",
        "        self.collections.append(collection)\n",
        "        print(f\"Scheduled collection for Item ID '{item_id}' on {scheduled_date}.\")\n",
        "        return collection\n",
        "\n",
        "    def add_recycling_center(self, center):\n",
        "        self.recycling_centers.append(center)\n",
        "        print(f\"Added recycling center: {center.name} at {center.location}.\")\n",
        "\n",
        "    def generate_report(self):\n",
        "        report = {\n",
        "            \"total_items\": len(self.inventory_manager.list_items()),\n",
        "            \"total_collections\": len(self.collections),\n",
        "            \"recycling_centers\": len(self.recycling_centers)\n",
        "        }\n",
        "        print(f\"Report generated: {report}\")\n",
        "        return report\n",
        "\n",
        "    def __str__(self):\n",
        "        return f\"E-waste Monitoring System: {len(self.inventory_manager.list_items())} items, {len(self.collections)} collections\"\n"
      ],
      "metadata": {
        "id": "nT9w3h1TOUAH"
      },
      "execution_count": 9,
      "outputs": []
    },
    {
      "cell_type": "code",
      "source": [
        "if __name__ == \"__main__\":\n",
        "    # Initialize the system\n",
        "    system = EwasteMonitoringSystem()\n",
        "\n",
        "    # Add electronic items\n",
        "    item1 = ElectronicItem(\"001\", \"Laptop\", \"Electronics\", \"2020-01-15\", \"In Use\")\n",
        "    item2 = ElectronicItem(\"002\", \"Printer\", \"Electronics\", \"2019-06-20\", \"In Use\")\n",
        "\n",
        "    system.inventory_manager.add_item(item1)\n",
        "    system.inventory_manager.add_item(item2)\n",
        "\n",
        "    # List all items\n",
        "    system.inventory_manager.list_items()\n",
        "\n",
        "    # Mark an item for disposal\n",
        "    system.inventory_manager.mark_item_for_disposal(\"001\", \"2024-08-20\")\n",
        "\n",
        "    # Schedule an E-waste collection\n",
        "    system.schedule_collection(\"001\", \"2024-08-25\")\n",
        "\n",
        "    # Add a recycling center\n",
        "    center = RecyclingCenter(\"RC001\", \"Green Recycle Center\", \"123 Recycle St\", \"contact@greenrecycle.com\")\n",
        "    system.add_recycling_center(center)\n",
        "\n",
        "    # Generate a report\n",
        "    system.generate_report()\n"
      ],
      "metadata": {
        "colab": {
          "base_uri": "https://localhost:8080/",
          "height": 453
        },
        "id": "svxIfGv_OYgz",
        "outputId": "60e749e2-a6b6-4384-b0f0-f73d0c6dc429"
      },
      "execution_count": 10,
      "outputs": [
        {
          "output_type": "stream",
          "name": "stdout",
          "text": [
            "Added item: Laptop (ID: 001).\n",
            "Added item: Printer (ID: 002).\n",
            "Laptop (Electronics) - Status: In Use\n",
            "Printer (Electronics) - Status: In Use\n",
            "Item 'Laptop' marked for disposal on 2024-08-20.\n",
            "Scheduled collection for Item ID '001' on 2024-08-25.\n",
            "Added recycling center: Green Recycle Center at 123 Recycle St.\n",
            "Laptop (Electronics) - Status: To Be Disposed\n",
            "Printer (Electronics) - Status: In Use\n"
          ]
        },
        {
          "output_type": "error",
          "ename": "TypeError",
          "evalue": "object of type 'NoneType' has no len()",
          "traceback": [
            "\u001b[0;31m---------------------------------------------------------------------------\u001b[0m",
            "\u001b[0;31mTypeError\u001b[0m                                 Traceback (most recent call last)",
            "\u001b[0;32m<ipython-input-10-226f5be09d9f>\u001b[0m in \u001b[0;36m<cell line: 1>\u001b[0;34m()\u001b[0m\n\u001b[1;32m     24\u001b[0m \u001b[0;34m\u001b[0m\u001b[0m\n\u001b[1;32m     25\u001b[0m     \u001b[0;31m# Generate a report\u001b[0m\u001b[0;34m\u001b[0m\u001b[0;34m\u001b[0m\u001b[0m\n\u001b[0;32m---> 26\u001b[0;31m     \u001b[0msystem\u001b[0m\u001b[0;34m.\u001b[0m\u001b[0mgenerate_report\u001b[0m\u001b[0;34m(\u001b[0m\u001b[0;34m)\u001b[0m\u001b[0;34m\u001b[0m\u001b[0;34m\u001b[0m\u001b[0m\n\u001b[0m",
            "\u001b[0;32m<ipython-input-9-82c660701ce1>\u001b[0m in \u001b[0;36mgenerate_report\u001b[0;34m(self)\u001b[0m\n\u001b[1;32m     21\u001b[0m     \u001b[0;32mdef\u001b[0m \u001b[0mgenerate_report\u001b[0m\u001b[0;34m(\u001b[0m\u001b[0mself\u001b[0m\u001b[0;34m)\u001b[0m\u001b[0;34m:\u001b[0m\u001b[0;34m\u001b[0m\u001b[0;34m\u001b[0m\u001b[0m\n\u001b[1;32m     22\u001b[0m         report = {\n\u001b[0;32m---> 23\u001b[0;31m             \u001b[0;34m\"total_items\"\u001b[0m\u001b[0;34m:\u001b[0m \u001b[0mlen\u001b[0m\u001b[0;34m(\u001b[0m\u001b[0mself\u001b[0m\u001b[0;34m.\u001b[0m\u001b[0minventory_manager\u001b[0m\u001b[0;34m.\u001b[0m\u001b[0mlist_items\u001b[0m\u001b[0;34m(\u001b[0m\u001b[0;34m)\u001b[0m\u001b[0;34m)\u001b[0m\u001b[0;34m,\u001b[0m\u001b[0;34m\u001b[0m\u001b[0;34m\u001b[0m\u001b[0m\n\u001b[0m\u001b[1;32m     24\u001b[0m             \u001b[0;34m\"total_collections\"\u001b[0m\u001b[0;34m:\u001b[0m \u001b[0mlen\u001b[0m\u001b[0;34m(\u001b[0m\u001b[0mself\u001b[0m\u001b[0;34m.\u001b[0m\u001b[0mcollections\u001b[0m\u001b[0;34m)\u001b[0m\u001b[0;34m,\u001b[0m\u001b[0;34m\u001b[0m\u001b[0;34m\u001b[0m\u001b[0m\n\u001b[1;32m     25\u001b[0m             \u001b[0;34m\"recycling_centers\"\u001b[0m\u001b[0;34m:\u001b[0m \u001b[0mlen\u001b[0m\u001b[0;34m(\u001b[0m\u001b[0mself\u001b[0m\u001b[0;34m.\u001b[0m\u001b[0mrecycling_centers\u001b[0m\u001b[0;34m)\u001b[0m\u001b[0;34m\u001b[0m\u001b[0;34m\u001b[0m\u001b[0m\n",
            "\u001b[0;31mTypeError\u001b[0m: object of type 'NoneType' has no len()"
          ]
        }
      ]
    }
  ]
}